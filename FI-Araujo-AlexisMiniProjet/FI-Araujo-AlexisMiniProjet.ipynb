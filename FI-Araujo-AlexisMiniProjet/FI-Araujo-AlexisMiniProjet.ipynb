{
 "cells": [
  {
   "cell_type": "markdown",
   "source": [
    "# Mini Projet Introduction au Deep Learning (Perceptron)\n",
    "# Alexis Araujo"
   ],
   "metadata": {
    "collapsed": false
   }
  },
  {
   "cell_type": "markdown",
   "source": [
    "## Première Partie"
   ],
   "metadata": {
    "collapsed": false
   }
  },
  {
   "cell_type": "code",
   "execution_count": 499,
   "outputs": [],
   "source": [
    "#Importation des librairies\n",
    "import numpy as np\n",
    "from sklearn.datasets import make_blobs\n",
    "from sklearn.metrics import accuracy_score\n",
    "import matplotlib.pyplot as plt"
   ],
   "metadata": {
    "collapsed": false
   }
  },
  {
   "cell_type": "markdown",
   "source": [
    "## Création du dataSet"
   ],
   "metadata": {
    "collapsed": false
   }
  },
  {
   "cell_type": "code",
   "execution_count": 500,
   "outputs": [],
   "source": [
    "# Définir le nombre d'échantillons (m) et le nombre de caractéristiques (n)\n",
    "m = 100  # Le nombre d'étudiants souhaité\n",
    "n = 2    # Nombre de caractéristiques (par exemple, notes en mathématiques et en français)"
   ],
   "metadata": {
    "collapsed": false
   }
  },
  {
   "cell_type": "code",
   "execution_count": 501,
   "outputs": [],
   "source": [
    "# Générer des données aléatoires pour les caractéristiques (notes)\n",
    "X = np.random.randint(0, 21, size=(m, n))  # Génère m lignes avec n colonnes de notes aléatoires entre 0 et 20"
   ],
   "metadata": {
    "collapsed": false
   }
  },
  {
   "cell_type": "code",
   "execution_count": 502,
   "outputs": [],
   "source": [
    "# Définir les poids des caractéristiques (pondération)\n",
    "# Par exemple, pour l'informatique, on peut attribuer un poids plus élevé aux matières scientifiques\n",
    "weights = np.array([3, 2])  # Poids des caractéristiques (par exemple, [poids_math, poids_francais])\n"
   ],
   "metadata": {
    "collapsed": false
   }
  },
  {
   "cell_type": "code",
   "execution_count": 503,
   "outputs": [],
   "source": [
    "# Calculer la moyenne pondérée pour chaque étudiant\n",
    "weighted_grades = np.dot(X, weights)\n",
    "mean_weighted_grades = weighted_grades / np.sum(weights)  # Normalisation des moyennes pondérées\n"
   ],
   "metadata": {
    "collapsed": false
   }
  },
  {
   "cell_type": "code",
   "execution_count": 504,
   "outputs": [],
   "source": [
    "# Définir les résultats d'admission en fonction des moyennes pondérées\n",
    "# Ici, les étudiants avec une moyenne pondérée supérieure ou égale à 10 sont admis (y=1), sinon non admis (y=0)\n",
    "y = np.where(mean_weighted_grades >= 10, 1, 0)  # Création des labels d'admission\n"
   ],
   "metadata": {
    "collapsed": false
   }
  },
  {
   "cell_type": "code",
   "execution_count": 505,
   "outputs": [
    {
     "name": "stdout",
     "output_type": "stream",
     "text": [
      "Dataset X (caractéristiques des étudiants) :\n",
      " [[ 1 20]\n",
      " [19 10]\n",
      " [15 18]\n",
      " [ 5 18]]\n",
      "\n",
      "Résultats d'admission y :\n",
      " [0 1 1 1]\n"
     ]
    }
   ],
   "source": [
    "# Affichage des premières lignes du dataset et des résultats d'admission\n",
    "print(\"Dataset X (caractéristiques des étudiants) :\\n\", X[:4])\n",
    "print(\"\\nRésultats d'admission y :\\n\", y[:4])"
   ],
   "metadata": {
    "collapsed": false
   }
  },
  {
   "cell_type": "markdown",
   "source": [
    "On peut voir ici un dataset X avec 2 colones et m lignes.\n",
    "La 1er colonne sont les résultats en math de chaque étudiant\n",
    "La 2ème colonne sont les résultats en francais de chaque étudiant\n",
    "\n",
    "Chaque ligne représente 1 étudiant\n",
    "\n",
    "\n",
    "Pour le tableau y dit si les étudiants ont été admis ou non\n",
    "Chaque colonne correspond à un étudiant\n",
    "0 il n'a pas été admis\n",
    "1 il a été admis"
   ],
   "metadata": {
    "collapsed": false
   }
  },
  {
   "cell_type": "code",
   "execution_count": 506,
   "outputs": [
    {
     "name": "stdout",
     "output_type": "stream",
     "text": [
      "(100, 2) (100, 1)\n"
     ]
    }
   ],
   "source": [
    "y = y.reshape(y.shape[0], 1)\n",
    "print(X.shape,y.shape)"
   ],
   "metadata": {
    "collapsed": false
   }
  },
  {
   "cell_type": "code",
   "execution_count": 507,
   "outputs": [
    {
     "data": {
      "text/plain": "<Figure size 432x288 with 1 Axes>",
      "image/png": "[encoded data removed]"
     },
     "metadata": {
      "needs_background": "light"
     },
     "output_type": "display_data"
    }
   ],
   "source": [
    "# Affichage de la dispersion de vos données\n",
    "plt.scatter(X[:, 0], X[:, 1], c=y, cmap='winter')\n",
    "plt.show()"
   ],
   "metadata": {
    "collapsed": false
   }
  },
  {
   "cell_type": "code",
   "execution_count": 508,
   "outputs": [],
   "source": [
    "def initialisation(X):\n",
    "    W=np.random.randn(X.shape[1],1)\n",
    "    b=np.random.randn(1)\n",
    "    return (W, b)"
   ],
   "metadata": {
    "collapsed": false
   }
  },
  {
   "cell_type": "code",
   "execution_count": 509,
   "outputs": [],
   "source": [
    "def model(X,W,b):\n",
    "    Z=X.dot(W)+b\n",
    "    A=1/(1+np.exp(-Z))\n",
    "    return A"
   ],
   "metadata": {
    "collapsed": false
   }
  },
  {
   "cell_type": "code",
   "execution_count": 510,
   "outputs": [],
   "source": [
    "def logLoss(A,y):\n",
    "    return 1/len(y)*np.sum(-y*np.log(A)-(1-y)*np.log(1-A))"
   ],
   "metadata": {
    "collapsed": false
   }
  },
  {
   "cell_type": "code",
   "execution_count": 511,
   "outputs": [],
   "source": [
    "def gradients (A,X,y):\n",
    "    dW=1/len(y)*np.dot(X.T,A-y)\n",
    "    db=1/len(y)*sum(A-y)\n",
    "    return (dW,db)"
   ],
   "metadata": {
    "collapsed": false
   }
  },
  {
   "cell_type": "code",
   "execution_count": 512,
   "outputs": [],
   "source": [
    "def update(dW,db, W, b, learning_rate):\n",
    "    W=W-learning_rate*dW\n",
    "    b=b-learning_rate*db\n",
    "    return (W,b)"
   ],
   "metadata": {
    "collapsed": false
   }
  },
  {
   "cell_type": "code",
   "execution_count": 513,
   "outputs": [],
   "source": [
    "def prediction(X,W,b):\n",
    "    A=model(X,W,b)\n",
    "    print(A)\n",
    "    return A>=0.5"
   ],
   "metadata": {
    "collapsed": false
   }
  },
  {
   "cell_type": "code",
   "execution_count": 514,
   "outputs": [],
   "source": [
    "def perceptron(X, y, learning_rate=0.1, n_iter=100):\n",
    "    W,b=initialisation(X)\n",
    "    cout=[]\n",
    "    for i in range(n_iter):\n",
    "        A=model(X,W,b)\n",
    "        cout.append(logLoss(A,y))\n",
    "        dW,db=gradients(A,X,y)\n",
    "        W,b= update(dW,db,W,b,learning_rate)\n",
    "    y_pred=prediction(X,W,b)\n",
    "    print(accuracy_score(y, y_pred))\n",
    "    plt.plot(cout)\n",
    "    plt.show()\n",
    "    return (W,b)"
   ],
   "metadata": {
    "collapsed": false
   }
  },
  {
   "cell_type": "code",
   "execution_count": 515,
   "outputs": [
    {
     "name": "stdout",
     "output_type": "stream",
     "text": [
      "[[0.0427445 ]\n",
      " [0.91895965]\n",
      " [0.69684022]\n",
      " [0.13096921]\n",
      " [0.22865456]\n",
      " [0.81888159]\n",
      " [0.92354797]\n",
      " [0.13893897]\n",
      " [0.11722815]\n",
      " [0.35702434]\n",
      " [0.94070087]\n",
      " [0.17134923]\n",
      " [0.11326928]\n",
      " [0.88581716]\n",
      " [0.33827712]\n",
      " [0.78576454]\n",
      " [0.12184271]\n",
      " [0.94640144]\n",
      " [0.05122048]\n",
      " [0.83885183]\n",
      " [0.80550901]\n",
      " [0.88383875]\n",
      " [0.63757314]\n",
      " [0.95865643]\n",
      " [0.86288987]\n",
      " [0.72389118]\n",
      " [0.90409044]\n",
      " [0.78817745]\n",
      " [0.79540587]\n",
      " [0.46245216]\n",
      " [0.04195714]\n",
      " [0.28020345]\n",
      " [0.89206154]\n",
      " [0.69272327]\n",
      " [0.16255226]\n",
      " [0.6885754 ]\n",
      " [0.27144519]\n",
      " [0.84787046]\n",
      " [0.92354797]\n",
      " [0.91602053]\n",
      " [0.62738071]\n",
      " [0.81522915]\n",
      " [0.14605447]\n",
      " [0.50372053]\n",
      " [0.89976826]\n",
      " [0.55223287]\n",
      " [0.57134814]\n",
      " [0.21768845]\n",
      " [0.88581716]\n",
      " [0.94070087]\n",
      " [0.22865456]\n",
      " [0.28020345]\n",
      " [0.29717763]\n",
      " [0.91602053]\n",
      " [0.09064301]\n",
      " [0.22101282]\n",
      " [0.67484989]\n",
      " [0.94640144]\n",
      " [0.93323649]\n",
      " [0.48916159]\n",
      " [0.08366902]\n",
      " [0.35143474]\n",
      " [0.80244944]\n",
      " [0.69789996]\n",
      " [0.59267953]\n",
      " [0.72389118]\n",
      " [0.35587247]\n",
      " [0.86799573]\n",
      " [0.95865643]\n",
      " [0.92525555]\n",
      " [0.31055842]\n",
      " [0.6509208 ]\n",
      " [0.35587247]\n",
      " [0.67909537]\n",
      " [0.14849254]\n",
      " [0.41103664]\n",
      " [0.76369642]\n",
      " [0.90533122]\n",
      " [0.24000362]\n",
      " [0.11523393]\n",
      " [0.83885183]\n",
      " [0.93323649]\n",
      " [0.51593305]\n",
      " [0.77742277]\n",
      " [0.13377556]\n",
      " [0.38197147]\n",
      " [0.89846274]\n",
      " [0.52562312]\n",
      " [0.18340947]\n",
      " [0.89846274]\n",
      " [0.17134923]\n",
      " [0.30641696]\n",
      " [0.06384072]\n",
      " [0.95607496]\n",
      " [0.05773035]\n",
      " [0.08219254]\n",
      " [0.05773035]\n",
      " [0.69684022]\n",
      " [0.23557486]\n",
      " [0.77829044]]\n",
      "0.8\n"
     ]
    },
    {
     "data": {
      "text/plain": "<Figure size 432x288 with 1 Axes>",
      "image/png": "[encoded data removed]"
     },
     "metadata": {
      "needs_background": "light"
     },
     "output_type": "display_data"
    }
   ],
   "source": [
    "W, b = perceptron(X, y)"
   ],
   "metadata": {
    "collapsed": false
   }
  },
  {
   "cell_type": "code",
   "execution_count": 516,
   "outputs": [],
   "source": [
    "nouvellePlante=np.array([2,1])\n",
    "x0=np.linspace(-1,4,100)\n",
    "x1 = (-b - W[0] * x0) / W[1]"
   ],
   "metadata": {
    "collapsed": false
   }
  },
  {
   "cell_type": "code",
   "execution_count": 517,
   "outputs": [
    {
     "data": {
      "text/plain": "<Figure size 432x288 with 1 Axes>",
      "image/png": "[encoded data removed]"
     },
     "metadata": {
      "needs_background": "light"
     },
     "output_type": "display_data"
    }
   ],
   "source": [
    "# Génération des valeurs x0 pour tracer la droite de décision\n",
    "x0 = np.linspace(min(X[:, 0]) - 1, max(X[:, 0]) + 1, 100)\n",
    "\n",
    "# Calcul de x1 en utilisant les poids et le biais pour tracer la frontière de décision\n",
    "x1 = (-b - W[0] * x0) / W[1]\n",
    "\n",
    "# Affichage du dataset et de la frontière de décision\n",
    "plt.scatter(X[:, 0], X[:, 1], c=y, cmap='winter')\n",
    "plt.plot(x0, x1, c='orange', lw=2)\n",
    "plt.show()"
   ],
   "metadata": {
    "collapsed": false
   }
  },
  {
   "cell_type": "code",
   "execution_count": 518,
   "outputs": [
    {
     "name": "stdout",
     "output_type": "stream",
     "text": [
      "[0.16323698]\n"
     ]
    },
    {
     "data": {
      "text/plain": "array([False])"
     },
     "execution_count": 518,
     "metadata": {},
     "output_type": "execute_result"
    }
   ],
   "source": [
    "prediction(nouvellePlante, W,b)"
   ],
   "metadata": {
    "collapsed": false
   }
  }
 ],
 "metadata": {
  "kernelspec": {
   "display_name": "Python 3",
   "language": "python",
   "name": "python3"
  },
  "language_info": {
   "codemirror_mode": {
    "name": "ipython",
    "version": 2
   },
   "file_extension": ".py",
   "mimetype": "text/x-python",
   "name": "python",
   "nbconvert_exporter": "python",
   "pygments_lexer": "ipython2",
   "version": "2.7.6"
  }
 },
 "nbformat": 4,
 "nbformat_minor": 0
}
