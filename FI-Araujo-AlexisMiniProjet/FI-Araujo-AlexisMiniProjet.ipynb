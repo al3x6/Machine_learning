{
 "cells": [
  {
   "cell_type": "markdown",
   "source": [
    "# Mini Projet Introduction au Deep Learning (Perceptron)\n",
    "# Alexis Araujo"
   ],
   "metadata": {
    "collapsed": false
   }
  },
  {
   "cell_type": "markdown",
   "source": [
    "## Première Partie"
   ],
   "metadata": {
    "collapsed": false
   }
  },
  {
   "cell_type": "code",
   "execution_count": 23,
   "outputs": [],
   "source": [
    "#Importation des librairies\n",
    "import numpy as np\n",
    "from sklearn.datasets import make_blobs\n",
    "from sklearn.metrics import accuracy_score\n",
    "import matplotlib.pyplot as plt"
   ],
   "metadata": {
    "collapsed": false
   }
  },
  {
   "cell_type": "markdown",
   "source": [
    "## Création du dataSet"
   ],
   "metadata": {
    "collapsed": false
   }
  },
  {
   "cell_type": "code",
   "execution_count": 24,
   "outputs": [],
   "source": [
    "# Définir le nombre d'échantillons (m) et le nombre de caractéristiques (n)\n",
    "m = 100  # Le nombre d'étudiants souhaité\n",
    "n = 2    # Nombre de caractéristiques (par exemple, notes en mathématiques et en français)"
   ],
   "metadata": {
    "collapsed": false
   }
  },
  {
   "cell_type": "code",
   "execution_count": 25,
   "outputs": [],
   "source": [
    "# Générer des données aléatoires pour les caractéristiques (notes)\n",
    "X = np.random.randint(0, 21, size=(m, n))  # Génère m lignes avec n colonnes de notes aléatoires entre 0 et 20"
   ],
   "metadata": {
    "collapsed": false
   }
  },
  {
   "cell_type": "code",
   "execution_count": 26,
   "outputs": [],
   "source": [
    "# Définir les poids des caractéristiques (pondération)\n",
    "# Par exemple, pour l'informatique, on peut attribuer un poids plus élevé aux matières scientifiques\n",
    "weights = np.array([3, 2])  # Poids des caractéristiques (par exemple, [poids_math, poids_francais])\n"
   ],
   "metadata": {
    "collapsed": false
   }
  },
  {
   "cell_type": "code",
   "execution_count": 27,
   "outputs": [],
   "source": [
    "# Calculer la moyenne pondérée pour chaque étudiant\n",
    "weighted_grades = np.dot(X, weights)\n",
    "mean_weighted_grades = weighted_grades / np.sum(weights)  # Normalisation des moyennes pondérées\n"
   ],
   "metadata": {
    "collapsed": false
   }
  },
  {
   "cell_type": "code",
   "execution_count": 28,
   "outputs": [],
   "source": [
    "# Définir les résultats d'admission en fonction des moyennes pondérées\n",
    "# Ici, les étudiants avec une moyenne pondérée supérieure ou égale à 10 sont admis (y=1), sinon non admis (y=0)\n",
    "y = np.where(mean_weighted_grades >= 10, 1, 0)  # Création des labels d'admission\n"
   ],
   "metadata": {
    "collapsed": false
   }
  },
  {
   "cell_type": "code",
   "execution_count": 29,
   "outputs": [
    {
     "name": "stdout",
     "output_type": "stream",
     "text": [
      "Dataset X (caractéristiques des étudiants) :\n",
      " [[12  8]\n",
      " [ 4 14]\n",
      " [18  5]\n",
      " [ 8  2]\n",
      " [17 14]]\n",
      "\n",
      "Résultats d'admission y :\n",
      " [1 0 1 0 1]\n"
     ]
    }
   ],
   "source": [
    "# Affichage des premières lignes du dataset et des résultats d'admission\n",
    "print(\"Dataset X (caractéristiques des étudiants) :\\n\", X[:5])\n",
    "print(\"\\nRésultats d'admission y :\\n\", y[:5])"
   ],
   "metadata": {
    "collapsed": false
   }
  }
 ],
 "metadata": {
  "kernelspec": {
   "display_name": "Python 3",
   "language": "python",
   "name": "python3"
  },
  "language_info": {
   "codemirror_mode": {
    "name": "ipython",
    "version": 2
   },
   "file_extension": ".py",
   "mimetype": "text/x-python",
   "name": "python",
   "nbconvert_exporter": "python",
   "pygments_lexer": "ipython2",
   "version": "2.7.6"
  }
 },
 "nbformat": 4,
 "nbformat_minor": 0
}
