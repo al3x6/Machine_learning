{
 "cells": [
  {
   "cell_type": "markdown",
   "source": [
    "# Extension du Mini Projet Introduction au Deep Learning (Perceptron)\n",
    "# Alexis Araujo"
   ],
   "metadata": {
    "collapsed": false
   }
  },
  {
   "cell_type": "markdown",
   "source": [
    "## Première Partie"
   ],
   "metadata": {
    "collapsed": false
   }
  },
  {
   "cell_type": "code",
   "execution_count": 27,
   "outputs": [],
   "source": [
    "import numpy as np\n",
    "from sklearn.datasets import make_blobs\n",
    "from sklearn.metrics import accuracy_score\n",
    "#!pip install h5py\n",
    "from utilities import *\n",
    "from tqdm import tqdm\n",
    "import matplotlib.pyplot as plt"
   ],
   "metadata": {
    "collapsed": false
   }
  },
  {
   "cell_type": "markdown",
   "source": [
    "## Importation du dataSet"
   ],
   "metadata": {
    "collapsed": false
   }
  },
  {
   "cell_type": "code",
   "execution_count": 28,
   "outputs": [],
   "source": [
    "# Chargement de données d'entrainement et de test\n",
    "x_train, y_train, x_test, y_test = load_data()"
   ],
   "metadata": {
    "collapsed": false
   }
  },
  {
   "cell_type": "code",
   "execution_count": 34,
   "outputs": [
    {
     "name": "stdout",
     "output_type": "stream",
     "text": [
      "(1000, 2) (1000, 1)\n"
     ]
    }
   ],
   "source": [
    "# Afficher les dimensions des données d'entrainement et des étiquettes\n",
    "print(x_train.shape)\n",
    "print(y_train.shape)"
   ],
   "metadata": {
    "collapsed": false
   }
  },
  {
   "cell_type": "code",
   "execution_count": null,
   "outputs": [],
   "source": [
    "# Utilisation de np.unique avec return_counts=True pour obtenir les valeurs uniques et leurs occurrences dans y_train\n",
    "print(np.unique(y_train, return_counts=True))"
   ],
   "metadata": {
    "collapsed": false
   }
  },
  {
   "cell_type": "code",
   "execution_count": null,
   "outputs": [],
   "source": [
    "# Affiche les dimensions des données de test et des étiquettes\n",
    "print(x_test.shape)\n",
    "print(y_test.shape)\n",
    "# Utilisation de np.unique avec return_counts=True pour obtenir les valeurs uniques et leurs occurrences dans y_test\n",
    "print(np.unique(y_test,return_counts=True))"
   ],
   "metadata": {
    "collapsed": false
   }
  },
  {
   "cell_type": "code",
   "execution_count": null,
   "outputs": [],
   "source": [
    "# Création d'une figure\n",
    "plt.figure(figsize=(16,8))\n",
    "\n",
    "# Une boucle sur les 9 premières images et leurs étiquettes pour les afficher\n",
    "for i in range(1,10):\n",
    "    plt.subplot(4,5,i) # sous graphique\n",
    "    plt.imshow(x_train[i],cmap='gray')     # Affiche l'image (x_train[i])\n",
    "    plt.title(y_train[i])   # Ajoute le titre du sous graphique en affichant les étiquettes\n",
    "    plt.tight_layout() # Ajustement\n",
    "plt.show()"
   ],
   "metadata": {
    "collapsed": false
   }
  }
 ],
 "metadata": {
  "kernelspec": {
   "display_name": "Python 3",
   "language": "python",
   "name": "python3"
  },
  "language_info": {
   "codemirror_mode": {
    "name": "ipython",
    "version": 2
   },
   "file_extension": ".py",
   "mimetype": "text/x-python",
   "name": "python",
   "nbconvert_exporter": "python",
   "pygments_lexer": "ipython2",
   "version": "2.7.6"
  }
 },
 "nbformat": 4,
 "nbformat_minor": 0
}
