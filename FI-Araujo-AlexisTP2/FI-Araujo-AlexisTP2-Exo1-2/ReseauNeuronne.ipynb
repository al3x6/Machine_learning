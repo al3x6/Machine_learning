{
 "cells": [
  {
   "cell_type": "code",
   "execution_count": 1,
   "metadata": {
    "collapsed": true
   },
   "outputs": [],
   "source": [
    "import numpy as np\n",
    "from sklearn.datasets import make_blobs\n",
    "from sklearn.metrics import accuracy_score\n",
    "import matplotlib.pyplot as plt\n"
   ]
  },
  {
   "cell_type": "code",
   "execution_count": 2,
   "outputs": [],
   "source": [
    "X,y=make_blobs(n_samples=200, n_features=2, centers=2, random_state=42)"
   ],
   "metadata": {
    "collapsed": false
   }
  },
  {
   "cell_type": "code",
   "execution_count": 3,
   "outputs": [
    {
     "name": "stdout",
     "output_type": "stream",
     "text": [
      "(200, 2) (200, 1)\n"
     ]
    }
   ],
   "source": [
    "y=y.reshape(y.shape[0], 1)\n",
    "print(X.shape,y.shape)"
   ],
   "metadata": {
    "collapsed": false
   }
  },
  {
   "cell_type": "code",
   "execution_count": 4,
   "outputs": [
    {
     "data": {
      "text/plain": "<Figure size 432x288 with 1 Axes>",
      "image/png": "[encoded data removed]"
     },
     "metadata": {
      "needs_background": "light"
     },
     "output_type": "display_data"
    }
   ],
   "source": [
    "plt.scatter(X[:,0], X[:,1], c=y, cmap='winter')\n",
    "plt.show()"
   ],
   "metadata": {
    "collapsed": false
   }
  },
  {
   "cell_type": "code",
   "execution_count": 5,
   "outputs": [],
   "source": [
    "def initialisation(X):\n",
    "    W=np.random.randn(X.shape[1],1)\n",
    "    b=np.random.randn(1)\n",
    "    return (W, b)"
   ],
   "metadata": {
    "collapsed": false
   }
  },
  {
   "cell_type": "code",
   "execution_count": 6,
   "outputs": [],
   "source": [
    "def model(X,W,b):\n",
    "    Z=X.dot(W)+b\n",
    "    A=1/(1+np.exp(-Z))\n",
    "    return A"
   ],
   "metadata": {
    "collapsed": false
   }
  },
  {
   "cell_type": "code",
   "execution_count": 7,
   "outputs": [],
   "source": [
    "def logLoss(A,y):\n",
    "    return 1/len(y)*np.sum(-y*np.log(A)-(1-y)*np.log(1-A))"
   ],
   "metadata": {
    "collapsed": false
   }
  },
  {
   "cell_type": "code",
   "execution_count": 8,
   "outputs": [],
   "source": [
    "def gradients (A,X,y):\n",
    "    dW=1/len(y)*np.dot(X.T,A-y)\n",
    "    db=1/len(y)*sum(A-y)\n",
    "    return (dW,db)"
   ],
   "metadata": {
    "collapsed": false
   }
  },
  {
   "cell_type": "code",
   "execution_count": 9,
   "outputs": [],
   "source": [
    "def update(dW,db, W, b, learning_rate):\n",
    "    W=W-learning_rate*dW\n",
    "    b=b-learning_rate*db\n",
    "    return (W,b)"
   ],
   "metadata": {
    "collapsed": false
   }
  },
  {
   "cell_type": "code",
   "execution_count": 10,
   "outputs": [],
   "source": [
    "def prediction(X,W,b):\n",
    "    A=model(X,W,b)\n",
    "    print(A)\n",
    "    return A>=0.5"
   ],
   "metadata": {
    "collapsed": false
   }
  },
  {
   "cell_type": "code",
   "execution_count": 11,
   "outputs": [
    {
     "name": "stdout",
     "output_type": "stream",
     "text": [
      "[[9.92138415e-01]\n",
      " [9.99408973e-01]\n",
      " [9.98250424e-01]\n",
      " [3.35953130e-04]\n",
      " [9.99305018e-01]\n",
      " [9.99877876e-01]\n",
      " [9.98298655e-01]\n",
      " [9.98187825e-01]\n",
      " [6.07221608e-04]\n",
      " [9.99578093e-01]\n",
      " [4.98947304e-04]\n",
      " [9.99488221e-01]\n",
      " [2.13819703e-02]\n",
      " [9.99384101e-01]\n",
      " [9.49654447e-01]\n",
      " [1.45014893e-02]\n",
      " [9.98953434e-01]\n",
      " [9.97329515e-01]\n",
      " [9.97291869e-01]\n",
      " [9.96015309e-01]\n",
      " [9.99511209e-01]\n",
      " [9.99062562e-01]\n",
      " [1.25547589e-02]\n",
      " [9.96996933e-01]\n",
      " [3.15951043e-03]\n",
      " [7.93936101e-04]\n",
      " [9.98856065e-01]\n",
      " [9.30024957e-03]\n",
      " [9.94283004e-01]\n",
      " [2.36293000e-03]\n",
      " [7.09088296e-04]\n",
      " [9.99688735e-01]\n",
      " [6.38914587e-04]\n",
      " [3.80339040e-03]\n",
      " [9.24194166e-03]\n",
      " [9.99218313e-01]\n",
      " [4.97044417e-03]\n",
      " [9.99906832e-01]\n",
      " [2.22516985e-03]\n",
      " [9.96375457e-01]\n",
      " [1.48560099e-02]\n",
      " [9.99395203e-01]\n",
      " [9.99122685e-01]\n",
      " [9.99392908e-01]\n",
      " [8.00894482e-04]\n",
      " [9.96608960e-01]\n",
      " [2.00247390e-03]\n",
      " [7.80891839e-04]\n",
      " [1.57056911e-03]\n",
      " [9.99634945e-01]\n",
      " [9.83944050e-01]\n",
      " [5.00926621e-04]\n",
      " [1.71570355e-03]\n",
      " [9.13603171e-04]\n",
      " [3.92596760e-03]\n",
      " [9.95564545e-01]\n",
      " [1.15352118e-03]\n",
      " [3.61190093e-03]\n",
      " [9.97122005e-01]\n",
      " [9.93738830e-01]\n",
      " [9.98601488e-01]\n",
      " [9.96006734e-01]\n",
      " [9.99186931e-01]\n",
      " [3.93079450e-03]\n",
      " [9.96907034e-01]\n",
      " [2.21658087e-04]\n",
      " [2.91824267e-03]\n",
      " [9.99134711e-01]\n",
      " [2.75980642e-04]\n",
      " [6.69594483e-03]\n",
      " [9.98402317e-01]\n",
      " [3.89601604e-04]\n",
      " [5.97006719e-03]\n",
      " [7.58539850e-03]\n",
      " [9.99898872e-01]\n",
      " [2.86391115e-04]\n",
      " [8.62698173e-03]\n",
      " [9.95017436e-01]\n",
      " [1.55432598e-03]\n",
      " [2.93454418e-04]\n",
      " [9.88628915e-01]\n",
      " [9.99268794e-01]\n",
      " [9.99263886e-01]\n",
      " [9.99739474e-01]\n",
      " [9.99006342e-01]\n",
      " [9.99973930e-01]\n",
      " [3.74353353e-05]\n",
      " [9.99813798e-01]\n",
      " [9.95451182e-01]\n",
      " [9.97017554e-01]\n",
      " [1.93530794e-03]\n",
      " [2.51945615e-03]\n",
      " [1.13018083e-03]\n",
      " [1.56694066e-03]\n",
      " [9.99225992e-01]\n",
      " [3.91687115e-03]\n",
      " [2.84358680e-03]\n",
      " [9.99844896e-01]\n",
      " [8.16993975e-04]\n",
      " [9.96686537e-01]\n",
      " [9.80257188e-01]\n",
      " [3.41931017e-04]\n",
      " [9.99968490e-01]\n",
      " [2.22065004e-03]\n",
      " [3.30692935e-04]\n",
      " [9.99162923e-01]\n",
      " [9.99427645e-01]\n",
      " [9.79486519e-01]\n",
      " [9.99699800e-01]\n",
      " [1.93713670e-04]\n",
      " [9.99321211e-01]\n",
      " [5.36185999e-04]\n",
      " [9.94548457e-01]\n",
      " [4.63812780e-03]\n",
      " [9.99942521e-01]\n",
      " [9.88048535e-01]\n",
      " [6.36081328e-03]\n",
      " [3.69241321e-04]\n",
      " [4.01431882e-03]\n",
      " [9.99804726e-01]\n",
      " [1.13684127e-03]\n",
      " [9.99539071e-01]\n",
      " [9.99946351e-01]\n",
      " [1.27002562e-03]\n",
      " [6.77872176e-04]\n",
      " [9.98820423e-01]\n",
      " [1.73196476e-03]\n",
      " [7.33583085e-04]\n",
      " [5.13439801e-04]\n",
      " [9.98788129e-01]\n",
      " [1.11168905e-03]\n",
      " [9.98025731e-01]\n",
      " [9.99645303e-01]\n",
      " [1.15844769e-02]\n",
      " [9.95472392e-01]\n",
      " [9.99072749e-01]\n",
      " [6.53952732e-04]\n",
      " [9.92413771e-01]\n",
      " [9.98586836e-01]\n",
      " [2.47183923e-04]\n",
      " [9.99503540e-01]\n",
      " [1.14103868e-03]\n",
      " [8.30521343e-04]\n",
      " [6.24702298e-03]\n",
      " [1.95306756e-03]\n",
      " [9.95741333e-01]\n",
      " [9.98965368e-01]\n",
      " [9.99920740e-01]\n",
      " [1.01024766e-03]\n",
      " [9.97972523e-01]\n",
      " [4.71934757e-03]\n",
      " [9.97592075e-01]\n",
      " [9.96889676e-01]\n",
      " [9.98322482e-01]\n",
      " [9.99147021e-01]\n",
      " [1.73930445e-02]\n",
      " [8.72979939e-04]\n",
      " [3.18664831e-04]\n",
      " [7.67867786e-04]\n",
      " [1.79792318e-03]\n",
      " [3.34758105e-03]\n",
      " [9.98779797e-01]\n",
      " [5.45492532e-03]\n",
      " [9.94535265e-01]\n",
      " [6.25070469e-04]\n",
      " [2.28546046e-04]\n",
      " [9.97697067e-01]\n",
      " [9.99763503e-01]\n",
      " [9.98483033e-01]\n",
      " [2.16687015e-03]\n",
      " [9.99277512e-01]\n",
      " [9.74684505e-01]\n",
      " [3.01092256e-03]\n",
      " [9.97378577e-01]\n",
      " [1.44952288e-04]\n",
      " [3.15555860e-04]\n",
      " [1.66875942e-03]\n",
      " [9.99823675e-01]\n",
      " [6.95966269e-04]\n",
      " [9.94898817e-01]\n",
      " [9.99526261e-01]\n",
      " [9.96717943e-01]\n",
      " [1.05948518e-03]\n",
      " [6.92890219e-04]\n",
      " [4.31835144e-03]\n",
      " [3.24643945e-03]\n",
      " [1.20025472e-03]\n",
      " [9.10595462e-04]\n",
      " [9.95011315e-01]\n",
      " [1.19554711e-03]\n",
      " [9.96872109e-01]\n",
      " [1.11431920e-03]\n",
      " [1.42149308e-03]\n",
      " [9.99756000e-01]\n",
      " [2.58188861e-04]\n",
      " [1.28406436e-03]\n",
      " [9.95358873e-01]\n",
      " [1.84381060e-03]\n",
      " [9.99120180e-01]\n",
      " [2.46157741e-03]]\n",
      "1.0\n"
     ]
    },
    {
     "data": {
      "text/plain": "<Figure size 432x288 with 1 Axes>",
      "image/png": "[encoded data removed]"
     },
     "metadata": {
      "needs_background": "light"
     },
     "output_type": "display_data"
    }
   ],
   "source": [
    "def artificialNeuron(X,y, learning_rate=0.1, n_iter=100):\n",
    "    W,b=initialisation(X)\n",
    "    cout=[]\n",
    "    for i in range(n_iter):\n",
    "        A=model(X,W,b)\n",
    "        cout.append(logLoss(A,y))\n",
    "        dW,db=gradients(A,X,y)\n",
    "        W,b= update(dW,db,W,b,learning_rate)\n",
    "    y_pred=prediction(X,W,b)\n",
    "    print(accuracy_score(y, y_pred))\n",
    "    plt.plot(cout)\n",
    "    plt.show()\n",
    "    return (W,b)\n",
    "W,b=artificialNeuron(X,y)"
   ],
   "metadata": {
    "collapsed": false
   }
  },
  {
   "cell_type": "code",
   "execution_count": 12,
   "outputs": [],
   "source": [
    "nouvellePlante=np.array([2,1])\n",
    "x0=np.linspace(-1,4,100)\n",
    "x1=(-W[0]*x0-b)/W[1]"
   ],
   "metadata": {
    "collapsed": false
   }
  },
  {
   "cell_type": "code",
   "execution_count": 13,
   "outputs": [
    {
     "data": {
      "text/plain": "<Figure size 432x288 with 1 Axes>",
      "image/png": "[encoded data removed]"
     },
     "metadata": {
      "needs_background": "light"
     },
     "output_type": "display_data"
    }
   ],
   "source": [
    "plt.scatter(X[:,0], X[:,1], c=y, cmap='winter')\n",
    "plt.plot(x0,x1,c='orange',lw=3)\n",
    "plt.scatter(nouvellePlante[0], nouvellePlante[1],c='r')\n",
    "plt.show()"
   ],
   "metadata": {
    "collapsed": false
   }
  },
  {
   "cell_type": "code",
   "execution_count": 14,
   "outputs": [
    {
     "name": "stdout",
     "output_type": "stream",
     "text": [
      "[0.97554881]\n"
     ]
    },
    {
     "data": {
      "text/plain": "array([ True])"
     },
     "execution_count": 14,
     "metadata": {},
     "output_type": "execute_result"
    }
   ],
   "source": [
    "prediction(nouvellePlante, W,b)"
   ],
   "metadata": {
    "collapsed": false
   }
  }
 ],
 "metadata": {
  "kernelspec": {
   "display_name": "Python 3",
   "language": "python",
   "name": "python3"
  },
  "language_info": {
   "codemirror_mode": {
    "name": "ipython",
    "version": 2
   },
   "file_extension": ".py",
   "mimetype": "text/x-python",
   "name": "python",
   "nbconvert_exporter": "python",
   "pygments_lexer": "ipython2",
   "version": "2.7.6"
  }
 },
 "nbformat": 4,
 "nbformat_minor": 0
}
